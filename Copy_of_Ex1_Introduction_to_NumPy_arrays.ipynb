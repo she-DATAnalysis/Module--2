{
  "nbformat": 4,
  "nbformat_minor": 0,
  "metadata": {
    "colab": {
      "name": "Copy of Ex1-Introduction to NumPy arrays.ipynb",
      "version": "0.3.2",
      "provenance": [],
      "collapsed_sections": [],
      "include_colab_link": true
    },
    "kernelspec": {
      "name": "python3",
      "display_name": "Python 3"
    },
    "accelerator": "GPU"
  },
  "cells": [
    {
      "cell_type": "markdown",
      "metadata": {
        "id": "view-in-github",
        "colab_type": "text"
      },
      "source": [
        "<a href=\"https://colab.research.google.com/github/she-DATAnalysis/Module--2/blob/master/Copy_of_Ex1_Introduction_to_NumPy_arrays.ipynb\" target=\"_parent\"><img src=\"https://colab.research.google.com/assets/colab-badge.svg\" alt=\"Open In Colab\"/></a>"
      ]
    },
    {
      "cell_type": "markdown",
      "metadata": {
        "id": "IZe1ZEda2w-d",
        "colab_type": "text"
      },
      "source": [
        "#Exercise #1: Introduction to NumPy arrays\n",
        "In this exercise we refers to a useful guide that can help you solve any questions in NumPy. This guide also summarize all that is needed to know about NumPy. [link to the guide](https://drive.google.com/file/d/0B9crmgoWupXkLTh0TS1HMzlrSVk/view)\n",
        "\n",
        "##Let’s create arrays in different ways:\n",
        "\n",
        "First, you should import numpy as np"
      ]
    },
    {
      "cell_type": "code",
      "metadata": {
        "id": "4dgyBR1B3QVZ",
        "colab_type": "code",
        "colab": {}
      },
      "source": [
        "import numpy as np"
      ],
      "execution_count": 0,
      "outputs": []
    },
    {
      "cell_type": "markdown",
      "metadata": {
        "id": "TWRqPfxK5Q-M",
        "colab_type": "text"
      },
      "source": [
        "\n",
        "\n",
        "### 1.   Read “Other ways to create arrays” on page 7-8 and then:\n",
        "\n"
      ]
    },
    {
      "cell_type": "markdown",
      "metadata": {
        "id": "tCxziE8W6ryJ",
        "colab_type": "text"
      },
      "source": [
        "\n",
        "* Create an array of zeros of shape (2,3,4) :\n",
        "\n",
        "\n",
        "\n",
        "\n",
        "\n"
      ]
    },
    {
      "cell_type": "code",
      "metadata": {
        "id": "M8Gr9PQC64mb",
        "colab_type": "code",
        "outputId": "aa5d66fe-dd77-43fa-f887-c1e769c16759",
        "colab": {
          "base_uri": "https://localhost:8080/",
          "height": 34
        }
      },
      "source": [
        "# Use np.zeros to create a (2,3,4) zero array\n",
        "# Your Code Here#\n",
        "a = []\n",
        "\n",
        "print(a)"
      ],
      "execution_count": 0,
      "outputs": [
        {
          "output_type": "stream",
          "text": [
            "[]\n"
          ],
          "name": "stdout"
        }
      ]
    },
    {
      "cell_type": "markdown",
      "metadata": {
        "id": "GFuaihgyHR8h",
        "colab_type": "text"
      },
      "source": [
        " * Create an array of ones of shape (2,3,4) :\n"
      ]
    },
    {
      "cell_type": "code",
      "metadata": {
        "id": "DXloqUXrK-nM",
        "colab_type": "code",
        "colab": {}
      },
      "source": [
        "# Use np.ones to create a (2,3,4) ones array\n",
        "# Your Code Here#\n",
        "b = []\n",
        "\n",
        "print(b)"
      ],
      "execution_count": 0,
      "outputs": []
    },
    {
      "cell_type": "code",
      "metadata": {
        "id": "n166KmacTRIl",
        "colab_type": "code",
        "outputId": "707cb89c-826e-473a-9fe4-c78356bd418e",
        "colab": {
          "base_uri": "https://localhost:8080/",
          "height": 34
        }
      },
      "source": [
        "#do the code thingi\n",
        "print('Carmel') "
      ],
      "execution_count": 0,
      "outputs": [
        {
          "output_type": "stream",
          "text": [
            "Carmel\n"
          ],
          "name": "stdout"
        }
      ]
    }
  ]
}