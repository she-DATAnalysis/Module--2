{
  "nbformat": 4,
  "nbformat_minor": 0,
  "metadata": {
    "colab": {
      "name": "Solution_for_Exercise_2_Interrogating_and_manipulating_arrays",
      "version": "0.3.2",
      "provenance": [],
      "collapsed_sections": [],
      "include_colab_link": true
    },
    "kernelspec": {
      "name": "python3",
      "display_name": "Python 3"
    },
    "accelerator": "GPU"
  },
  "cells": [
    {
      "cell_type": "markdown",
      "metadata": {
        "id": "view-in-github",
        "colab_type": "text"
      },
      "source": [
        "<a href=\"https://colab.research.google.com/github/she-DATAnalysis/Module--2/blob/master/Solution_for_Exercise_2_Interrogating_and_manipulating_arrays.ipynb\" target=\"_parent\"><img src=\"https://colab.research.google.com/assets/colab-badge.svg\" alt=\"Open In Colab\"/></a>"
      ]
    },
    {
      "cell_type": "markdown",
      "metadata": {
        "id": "IZe1ZEda2w-d",
        "colab_type": "text"
      },
      "source": [
        "#Exercise #2: Interrogating and manipulating arrays\n",
        "\n",
        "###Aim: Learn how to interrogate and manipulate NumPy arrays\n",
        "\n",
        "In this exercise we refers to a useful guide that can help you solve any questions in NumPy. This guide also summarize all that is needed to know about NumPy. [link to the guide](https://drive.google.com/file/d/0B9crmgoWupXkLTh0TS1HMzlrSVk/view)\n",
        "\n",
        "###Issue covered:\n",
        "\n",
        "\n",
        "\n",
        "*   Intertogating the properties of an array\n",
        "*   Manipulating arrays to change their properties.\n",
        "\n"
      ]
    },
    {
      "cell_type": "code",
      "metadata": {
        "id": "4dgyBR1B3QVZ",
        "colab_type": "code",
        "colab": {}
      },
      "source": [
        "import numpy as np"
      ],
      "execution_count": 0,
      "outputs": []
    },
    {
      "cell_type": "markdown",
      "metadata": {
        "id": "TWRqPfxK5Q-M",
        "colab_type": "text"
      },
      "source": [
        "\n",
        "\n",
        "### 1.  Let’s interrogate an array to find out its characteristics.\n",
        "Recall what you’ve read in Exercise #1, read page 11 and then:\n",
        "\n",
        "\n"
      ]
    },
    {
      "cell_type": "markdown",
      "metadata": {
        "id": "tCxziE8W6ryJ",
        "colab_type": "text"
      },
      "source": [
        "\n",
        ">(a)  Create a 2-D array shape (2,4) containing two lists:\n",
        " (range(4), range(10, 14)) and assign it to the variable \"arr\") :\n",
        "\n",
        "\n",
        "\n",
        "\n",
        "\n"
      ]
    },
    {
      "cell_type": "code",
      "metadata": {
        "id": "M8Gr9PQC64mb",
        "colab_type": "code",
        "outputId": "af85029c-0416-4e6f-9c3a-ffd32a5d2ef4",
        "colab": {
          "base_uri": "https://localhost:8080/",
          "height": 50
        }
      },
      "source": [
        "# Your Code Here#\n",
        "arr = arr = np.array([range(4), range(10,14)])\n",
        "\n",
        "print(arr)"
      ],
      "execution_count": 0,
      "outputs": [
        {
          "output_type": "stream",
          "text": [
            "[[ 0  1  2  3]\n",
            " [10 11 12 13]]\n"
          ],
          "name": "stdout"
        }
      ]
    },
    {
      "cell_type": "markdown",
      "metadata": {
        "id": "GFuaihgyHR8h",
        "colab_type": "text"
      },
      "source": [
        ">(b) Print the shape of the array :\n"
      ]
    },
    {
      "cell_type": "code",
      "metadata": {
        "id": "vSeLW1C7XkMu",
        "colab_type": "code",
        "outputId": "3c875548-b15b-47e7-8056-573b69141f6f",
        "colab": {
          "base_uri": "https://localhost:8080/",
          "height": 34
        }
      },
      "source": [
        "# Your Code Here#\n",
        "print(arr.shape)"
      ],
      "execution_count": 0,
      "outputs": [
        {
          "output_type": "stream",
          "text": [
            "(2, 4)\n"
          ],
          "name": "stdout"
        }
      ]
    },
    {
      "cell_type": "markdown",
      "metadata": {
        "id": "S9JfjvRNQXRX",
        "colab_type": "text"
      },
      "source": [
        "\n",
        "\n",
        ">(c)  Print the size of the array:\n",
        "\n"
      ]
    },
    {
      "cell_type": "code",
      "metadata": {
        "id": "DXloqUXrK-nM",
        "colab_type": "code",
        "outputId": "eb030f31-1bdf-49bf-94d7-71ef6e5dfbae",
        "colab": {
          "base_uri": "https://localhost:8080/",
          "height": 34
        }
      },
      "source": [
        "# Your Code Here#\n",
        "print(arr.size)"
      ],
      "execution_count": 0,
      "outputs": [
        {
          "output_type": "stream",
          "text": [
            "8\n"
          ],
          "name": "stdout"
        }
      ]
    },
    {
      "cell_type": "markdown",
      "metadata": {
        "id": "uT_f2eLVQg3h",
        "colab_type": "text"
      },
      "source": [
        "\n",
        "\n",
        ">(d)  Print the maximum and minimum of the array:\n",
        "\n"
      ]
    },
    {
      "cell_type": "code",
      "metadata": {
        "id": "wcVdZoTuQnx5",
        "colab_type": "code",
        "outputId": "7360e277-361d-4bcc-c687-1b84ceb1e7b9",
        "colab": {
          "base_uri": "https://localhost:8080/",
          "height": 50
        }
      },
      "source": [
        "# Your Code Here#\n",
        "print(arr.max())\n",
        "print(arr.min())"
      ],
      "execution_count": 0,
      "outputs": [
        {
          "output_type": "stream",
          "text": [
            "13\n",
            "0\n"
          ],
          "name": "stdout"
        }
      ]
    },
    {
      "cell_type": "markdown",
      "metadata": {
        "id": "ymRcEsoPQor3",
        "colab_type": "text"
      },
      "source": [
        "###2. Let’s generate new arrays by modifying our array.\n",
        "Read the last code chunk on page 4 and read on until page 7  \n",
        "\t(up to “Other ways to create arrays” you’ve already read). Then:\n",
        "\n"
      ]
    },
    {
      "cell_type": "markdown",
      "metadata": {
        "id": "5mB8SDGwQ1hA",
        "colab_type": "text"
      },
      "source": [
        "\n",
        "\n",
        ">(a)  Continue to use the array \"arr\" as defined above:\n",
        "\n",
        "\n"
      ]
    },
    {
      "cell_type": "markdown",
      "metadata": {
        "id": "V7VOA6lWRulp",
        "colab_type": "text"
      },
      "source": [
        "\n",
        "\n",
        "> (b) Re-shape array \"arr\" to (2, 2, 2) and print it:\n",
        "\n",
        "\n"
      ]
    },
    {
      "cell_type": "code",
      "metadata": {
        "id": "0kQ0HtXvRfPZ",
        "colab_type": "code",
        "outputId": "281e75f6-8ed3-4a0d-be03-69ff372c4983",
        "colab": {
          "base_uri": "https://localhost:8080/",
          "height": 101
        }
      },
      "source": [
        "# Your Code Here#\n",
        "\n",
        "print(np.reshape(arr, [2,2,2]))"
      ],
      "execution_count": 0,
      "outputs": [
        {
          "output_type": "stream",
          "text": [
            "[[[ 0  1]\n",
            "  [ 2  3]]\n",
            "\n",
            " [[10 11]\n",
            "  [12 13]]]\n"
          ],
          "name": "stdout"
        }
      ]
    },
    {
      "cell_type": "markdown",
      "metadata": {
        "colab_type": "text",
        "id": "YEDbBZKpR14i"
      },
      "source": [
        "\n",
        "\n",
        ">(c)  Print the array transposed:\n",
        "\n",
        "\n"
      ]
    },
    {
      "cell_type": "code",
      "metadata": {
        "id": "A8dgmHOtR1OJ",
        "colab_type": "code",
        "outputId": "0a8acb73-0075-44b0-f93b-b98deb441008",
        "colab": {
          "base_uri": "https://localhost:8080/",
          "height": 84
        }
      },
      "source": [
        "# Your Code Here#\n",
        "print(np.transpose(arr))"
      ],
      "execution_count": 0,
      "outputs": [
        {
          "output_type": "stream",
          "text": [
            "[[ 0 10]\n",
            " [ 1 11]\n",
            " [ 2 12]\n",
            " [ 3 13]]\n"
          ],
          "name": "stdout"
        }
      ]
    },
    {
      "cell_type": "markdown",
      "metadata": {
        "colab_type": "text",
        "id": "nIIIj6a4R5vA"
      },
      "source": [
        "\n",
        "\n",
        ">(d)  Print the array flattened to a single dimension:\n",
        "\n",
        "\n"
      ]
    },
    {
      "cell_type": "code",
      "metadata": {
        "id": "qUrxPgsJR4CV",
        "colab_type": "code",
        "outputId": "907ca417-4a4d-44f3-e87f-fe6cbf631416",
        "colab": {
          "base_uri": "https://localhost:8080/",
          "height": 34
        }
      },
      "source": [
        "# Your Code Here#\n",
        "print(np.ravel(arr))"
      ],
      "execution_count": 0,
      "outputs": [
        {
          "output_type": "stream",
          "text": [
            "[ 0  1  2  3 10 11 12 13]\n"
          ],
          "name": "stdout"
        }
      ]
    },
    {
      "cell_type": "markdown",
      "metadata": {
        "colab_type": "text",
        "id": "N_NnXhzASPHS"
      },
      "source": [
        "\n",
        "\n",
        ">(e)  Print the array converted to floats:\n",
        "\n",
        "\n"
      ]
    },
    {
      "cell_type": "code",
      "metadata": {
        "id": "W0d3RFvDSQlA",
        "colab_type": "code",
        "outputId": "bc040c8b-25d0-4f62-a2d0-bd9612dc1dbd",
        "colab": {
          "base_uri": "https://localhost:8080/",
          "height": 50
        }
      },
      "source": [
        "# Your Code Here#\n",
        "print(arr.astype('f'))"
      ],
      "execution_count": 0,
      "outputs": [
        {
          "output_type": "stream",
          "text": [
            "[[ 0.  1.  2.  3.]\n",
            " [10. 11. 12. 13.]]\n"
          ],
          "name": "stdout"
        }
      ]
    },
    {
      "cell_type": "markdown",
      "metadata": {
        "colab_type": "text",
        "id": "wlaXfi70SSUC"
      },
      "source": [
        "\n",
        "\n",
        ">(f) Create a 2-D array shape (2, 4) containing two lists [0, 3.1, 2.2, 1.1] and [7, 4, 3.14, 11] and assign it to the variable \"arr2\":\n",
        "\n",
        "\n"
      ]
    },
    {
      "cell_type": "code",
      "metadata": {
        "id": "u2ieDOfHSTLw",
        "colab_type": "code",
        "outputId": "5e62de04-7fe1-404a-b5c7-3ee18bb1fc25",
        "colab": {
          "base_uri": "https://localhost:8080/",
          "height": 50
        }
      },
      "source": [
        "# Your Code Here#\n",
        "arr2 = np.array([[0, 3.1, 2.2, 1.1], [7, 4, 3.14, 11]])\n",
        "\n",
        "print(arr2)"
      ],
      "execution_count": 0,
      "outputs": [
        {
          "output_type": "stream",
          "text": [
            "[[ 0.    3.1   2.2   1.1 ]\n",
            " [ 7.    4.    3.14 11.  ]]\n"
          ],
          "name": "stdout"
        }
      ]
    },
    {
      "cell_type": "markdown",
      "metadata": {
        "colab_type": "text",
        "id": "b7N5elRAST-u"
      },
      "source": [
        "\n",
        "\n",
        ">(g) Use  concatenate  function to concatenate \"arr\" and \"arr2\":\n",
        "\n",
        "\n"
      ]
    },
    {
      "cell_type": "code",
      "metadata": {
        "id": "NLxAKMvnSUdU",
        "colab_type": "code",
        "outputId": "30f31bf6-1ce6-4751-dd3c-6c1ed398940e",
        "colab": {
          "base_uri": "https://localhost:8080/",
          "height": 84
        }
      },
      "source": [
        "# Your Code Here#\n",
        "arr_conc = np.concatenate((arr, arr2))\n",
        "\n",
        "print(arr_conc)"
      ],
      "execution_count": 0,
      "outputs": [
        {
          "output_type": "stream",
          "text": [
            "[[ 0.    1.    2.    3.  ]\n",
            " [10.   11.   12.   13.  ]\n",
            " [ 0.    3.1   2.2   1.1 ]\n",
            " [ 7.    4.    3.14 11.  ]]\n"
          ],
          "name": "stdout"
        }
      ]
    },
    {
      "cell_type": "markdown",
      "metadata": {
        "colab_type": "text",
        "id": "EQKgp9DtSVis"
      },
      "source": [
        "\n",
        "> (h) As you’ve read on page 7, you can use newaxis function to expand the shape of a 1-D array. In the case of multidimensional arrays you can use expand_dims function as shown here. Use expand_dims function and print \"arr\" array re-shaped to (2, 4, 1):\n",
        "\n",
        "\n"
      ]
    },
    {
      "cell_type": "code",
      "metadata": {
        "id": "3TNZKchOSbzx",
        "colab_type": "code",
        "outputId": "64547380-3d7f-471f-f7b9-9f5221671227",
        "colab": {
          "base_uri": "https://localhost:8080/",
          "height": 168
        }
      },
      "source": [
        "# Your Code Here#\n",
        "print(np.expand_dims(arr, axis=2))"
      ],
      "execution_count": 0,
      "outputs": [
        {
          "output_type": "stream",
          "text": [
            "[[[ 0]\n",
            "  [ 1]\n",
            "  [ 2]\n",
            "  [ 3]]\n",
            "\n",
            " [[10]\n",
            "  [11]\n",
            "  [12]\n",
            "  [13]]]\n"
          ],
          "name": "stdout"
        }
      ]
    },
    {
      "cell_type": "markdown",
      "metadata": {
        "colab_type": "text",
        "id": "FGJJSmo0ScVK"
      },
      "source": [
        "**Note:** np.fromstring() only works for floats. If we want to use it with other types, the type must be given as an argument, e.g. np.fromstring(str, dtype=int)"
      ]
    }
  ]
}